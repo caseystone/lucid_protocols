{
 "cells": [
  {
   "cell_type": "code",
   "execution_count": 5,
   "id": "3ecd596e-3534-4362-a704-8fd4314a2e15",
   "metadata": {},
   "outputs": [],
   "source": [
    "# imports\n",
    "import openai\n",
    "import os\n",
    "import sys\n",
    "import langchain\n",
    "from langchain.document_loaders import DirectoryLoader\n",
    "from langchain.text_splitter import RecursiveCharacterTextSplitter\n",
    "from pathlib import Path\n",
    "import pprint"
   ]
  },
  {
   "cell_type": "code",
   "execution_count": 2,
   "id": "542632d9-4035-4eb9-9c56-b2c0dfd7b06f",
   "metadata": {},
   "outputs": [],
   "source": [
    "# pip installs\n",
    "# !pip install langchain\n",
    "# !pip install torch\n",
    "# !pip install transformers\n",
    "# !pip install faiss-cpu\n",
    "# !pip install pypdf\n",
    "# !pip install sentence-transformers\n",
    "# !pip install unstructured==0.7.12   # has to be this downgraded version \n",
    "# !pip install 'unstructured[pdf]'\n",
    "# !pip install tiktoken\n",
    "# !pip install huggingface_hub\n",
    "# from huggingface_hub import login"
   ]
  },
  {
   "cell_type": "code",
   "execution_count": 3,
   "id": "11ede0ba-0d4e-4371-883b-c43178c2dfea",
   "metadata": {},
   "outputs": [
    {
     "name": "stderr",
     "output_type": "stream",
     "text": [
      "100%|█████████████████████████████████████████| 246/246 [07:50<00:00,  1.91s/it]\n"
     ]
    }
   ],
   "source": [
    "# Load in collected pdfs\n",
    "loader = DirectoryLoader('/Users/cstone/Documents/Projects/LUCID/protocol_pdfs/all_pdfs_test', glob='**/*.pdf', show_progress=True)\n",
    "documents = loader.load()\n",
    "\n",
    "# Q: Can the papers be separated into separate directories and still be loaded in? If so, how?\n",
    "# Q: What exactly is happening here? The text from the pdfs is being saved to memory?"
   ]
  },
  {
   "cell_type": "code",
   "execution_count": 7,
   "id": "aa6c2c96-63e9-4f38-bfe9-7d08a6e3d343",
   "metadata": {},
   "outputs": [
    {
     "name": "stdout",
     "output_type": "stream",
     "text": [
      "done splitting\n"
     ]
    }
   ],
   "source": [
    "# split loaded documents into chunks\n",
    "text_splitter = RecursiveCharacterTextSplitter(chunk_size=1000, chunk_overlap=150)\n",
    "docs = text_splitter.split_documents(documents)\n",
    "\n",
    "print(\"done splitting\")"
   ]
  },
  {
   "cell_type": "code",
   "execution_count": 8,
   "id": "ccf2ba6f-15d6-4d49-8c6c-398c637d497b",
   "metadata": {},
   "outputs": [],
   "source": [
    "# Embed the chunked texts using a Transformer\n",
    "from langchain.embeddings import HuggingFaceEmbeddings\n",
    "modelPath = \"sentence-transformers/all-MiniLM-l6-v2\"\n",
    "model_kwargs = {'device':'cpu'}\n",
    "encode_kwargs = {'normalize_embeddings':False}\n",
    "embeddings = HuggingFaceEmbeddings(\n",
    "  model_name = modelPath,\n",
    "  model_kwargs = model_kwargs,\n",
    "  encode_kwargs=encode_kwargs\n",
    ")"
   ]
  },
  {
   "cell_type": "code",
   "execution_count": 9,
   "id": "5d4004ea-eaed-44a7-a55a-9baf2b750dbd",
   "metadata": {},
   "outputs": [],
   "source": [
    "# create a vector database\n",
    "from langchain.vectorstores import FAISS\n",
    "db = FAISS.from_documents(docs, embeddings)"
   ]
  },
  {
   "cell_type": "code",
   "execution_count": 10,
   "id": "7c262745-52f1-435a-bce1-47c190aa3668",
   "metadata": {},
   "outputs": [],
   "source": [
    "# Run a similarity search between query and documents in vecor database\n",
    "\n",
    "# # Example\n",
    "# question = \"What is CRISPR?\"\n",
    "# searchDocs = db.similarity_search(question)\n",
    "# print(searchDocs[0].metadata)\n",
    "\n",
    "# Navigating searchDocs\n",
    "# print(searchDocs[0].metadata)  \n",
    "# print(searchDocs[0].page_content)\n",
    "# pprint.pp(doc_attributes)  # to figure out what attributes are availible in the search docs"
   ]
  },
  {
   "cell_type": "code",
   "execution_count": 13,
   "id": "64090e05-ccb9-43cf-b3a3-9f1a2d2223a8",
   "metadata": {},
   "outputs": [
    {
     "name": "stdout",
     "output_type": "stream",
     "text": [
      "1: {'source': '/Users/cstone/Documents/Projects/LUCID/protocol_pdfs/all_pdfs_test/a-novel-method-for-the-isolation-of-single-cells-m-c3szynf6.pdf'}\n",
      "2: {'source': '/Users/cstone/Documents/Projects/LUCID/protocol_pdfs/all_pdfs_test/drug-sensitivity-assays-of-human-cancer-organoid-c-bpsgmnbw.pdf'}\n",
      "3: {'source': '/Users/cstone/Documents/Projects/LUCID/protocol_pdfs/all_pdfs_test/drug-sensitivity-assays-of-human-cancer-organoid-c-bpsgmnbw.pdf'}\n",
      "4: {'source': '/Users/cstone/Documents/Projects/LUCID/protocol_pdfs/all_pdfs_test/fragment-analysis-guide-technote.pdf'}\n"
     ]
    }
   ],
   "source": [
    "# Collect text from one of Rick's hypotheses and run similarity search to find most related paper\n",
    "test_hypothesis_path = Path(\"/Users/cstone/Documents/Projects/LUCID/lucid_protocols/00a06d706e56c64d47ee6b06bd59595268839391.txt_chunk_1_.report\")\n",
    "test_hypothesis_contents = test_hypothesis_path.read_text()\n",
    "# print(test_hypothesis_contents)\n",
    "\n",
    "searchDocs = db.similarity_search(test_hypothesis_contents)\n",
    "print(f\"1: {searchDocs[0].metadata}\")\n",
    "print(f\"2: {searchDocs[1].metadata}\")\n",
    "print(f\"3: {searchDocs[2].metadata}\")\n",
    "print(f\"4: {searchDocs[3].metadata}\")\n",
    "# print(f\"5: {searchDocs[4].metadata}\")  # Q: How is this out of range?\n",
    "\n",
    "    "
   ]
  },
  {
   "cell_type": "code",
   "execution_count": null,
   "id": "3847b784-7e13-4240-8d0a-4b1f205454d1",
   "metadata": {},
   "outputs": [],
   "source": []
  }
 ],
 "metadata": {
  "kernelspec": {
   "display_name": "Python 3 (ipykernel)",
   "language": "python",
   "name": "python3"
  },
  "language_info": {
   "codemirror_mode": {
    "name": "ipython",
    "version": 3
   },
   "file_extension": ".py",
   "mimetype": "text/x-python",
   "name": "python",
   "nbconvert_exporter": "python",
   "pygments_lexer": "ipython3",
   "version": "3.9.19"
  }
 },
 "nbformat": 4,
 "nbformat_minor": 5
}
